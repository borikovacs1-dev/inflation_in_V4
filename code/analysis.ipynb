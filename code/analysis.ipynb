{
 "cells": [
  {
   "cell_type": "code",
   "execution_count": 15,
   "id": "c959031b-30fe-4ed9-89a3-9a527d60c9d3",
   "metadata": {},
   "outputs": [
    {
     "name": "stdout",
     "output_type": "stream",
     "text": [
      "  TIME_PERIOD  inflation_CZ  core_inflation_CZ  inflation_HUN  \\\n",
      "0     2015-01          -0.1                0.8           -1.4   \n",
      "1     2015-02           0.0                0.7           -0.9   \n",
      "2     2015-03           0.1                0.7           -0.5   \n",
      "3     2015-04           0.5                0.7            0.0   \n",
      "4     2015-05           0.7                0.9            0.6   \n",
      "\n",
      "   core_inflation_HUN  inflation_PL  core_inflation_PL  inflation_SK  \\\n",
      "0                 1.2          -1.1                0.5          -0.5   \n",
      "1                 1.5          -1.3                0.5          -0.6   \n",
      "2                 1.5          -1.2                0.3          -0.4   \n",
      "3                 1.8          -0.8                0.4          -0.1   \n",
      "4                 1.9          -0.6                0.5          -0.1   \n",
      "\n",
      "   core_inflation_SK  \n",
      "0                0.5  \n",
      "1                0.5  \n",
      "2                0.5  \n",
      "3                0.4  \n",
      "4                0.5  \n"
     ]
    }
   ],
   "source": [
    "import pandas as pd\n",
    "from functools import reduce\n",
    "import os\n",
    "\n",
    "# Define country codes\n",
    "countries = [\"CZ\", \"HUN\", \"PL\", \"SK\"]\n",
    "\n",
    "# Empty list to store country dataframes\n",
    "dfs = []\n",
    "\n",
    "for country in countries:\n",
    "    # Construct the file path\n",
    "    file_path = os.path.join(\"../data/raw\", f\"{country}_.csv\")\n",
    "   \n",
    "    # Read CSV\n",
    "    df = pd.read_csv(file_path)\n",
    "\n",
    "    # Assume the first column is the date or month\n",
    "    date_col = df.columns[6]\n",
    "    value_col = df.columns[7]\n",
    "    filter_col = df.columns[4]  \n",
    "    \n",
    "    # Filter by inflation type\n",
    "    inflation = df[df[filter_col] == \"All-items HICP\"].copy()\n",
    "    core_inflation = df[df[filter_col] == \"Overall index excluding energy, food, alcohol and tobacco\"].copy()\n",
    "    \n",
    "    # Make sure both have same date range\n",
    "    inflation.reset_index(drop=True, inplace=True)\n",
    "    core_inflation.reset_index(drop=True, inplace=True)\n",
    "    \n",
    "    # Rename value columns to indicate country and type\n",
    "    inflation.rename(columns={value_col: f\"inflation_{country}\"}, inplace=True)\n",
    "    core_inflation.rename(columns={value_col: f\"core_inflation_{country}\"}, inplace=True)\n",
    "    \n",
    "    #Merge inflation and core inflatuion for given country\n",
    "    merged = pd.merge(\n",
    "        inflation[[date_col, f\"inflation_{country}\"]],\n",
    "        core_inflation[[date_col, f\"core_inflation_{country}\"]],\n",
    "        on=date_col,\n",
    "        how=\"outer\"\n",
    "    )\n",
    "    \n",
    "    dfs.append(merged)\n",
    "\n",
    "# Combine all countries\n",
    "combined = reduce(lambda i, j: pd.merge(i, j, on=date_col, how=\"outer\"), dfs)\n",
    "combined.sort_values(by=date_col, inplace=True)\n",
    "  \n",
    "print(combined.head())\n",
    "\n",
    "#Save data frame\n",
    "combined.to_csv(\"../data/combined_inflation_data.csv\", index=False)\n",
    "\n",
    "print(\"✅ Combined dataset saved as 'combined_inflation_data.csv'\")\n"
   ]
  },
  {
   "cell_type": "code",
   "execution_count": null,
   "id": "e3831412-6210-4c88-86ff-d27e973392fa",
   "metadata": {},
   "outputs": [],
   "source": []
  },
  {
   "cell_type": "code",
   "execution_count": 6,
   "id": "1693e4a2-d7f1-496a-819f-c59f74c8fd93",
   "metadata": {},
   "outputs": [
    {
     "name": "stdout",
     "output_type": "stream",
     "text": [
      "C:\\Users\\borik\\Desktop\\inflation_in_V4\\code\n"
     ]
    }
   ],
   "source": [
    "\n"
   ]
  },
  {
   "cell_type": "code",
   "execution_count": null,
   "id": "df1222bf-9cd2-4e7b-aa13-0ccd10ecb1a4",
   "metadata": {},
   "outputs": [],
   "source": []
  }
 ],
 "metadata": {
  "kernelspec": {
   "display_name": "Python [conda env:base] *",
   "language": "python",
   "name": "conda-base-py"
  },
  "language_info": {
   "codemirror_mode": {
    "name": "ipython",
    "version": 3
   },
   "file_extension": ".py",
   "mimetype": "text/x-python",
   "name": "python",
   "nbconvert_exporter": "python",
   "pygments_lexer": "ipython3",
   "version": "3.13.5"
  }
 },
 "nbformat": 4,
 "nbformat_minor": 5
}
